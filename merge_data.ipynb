{
 "cells": [
  {
   "cell_type": "code",
   "execution_count": 1,
   "id": "acb4c447-6949-4ba4-b57f-dd6745003723",
   "metadata": {},
   "outputs": [],
   "source": [
    "import pandas as pd"
   ]
  },
  {
   "cell_type": "code",
   "execution_count": 2,
   "id": "faabd9b1-c9a5-45ae-8d54-af5b80fceaa2",
   "metadata": {},
   "outputs": [
    {
     "data": {
      "text/html": [
       "<div>\n",
       "<style scoped>\n",
       "    .dataframe tbody tr th:only-of-type {\n",
       "        vertical-align: middle;\n",
       "    }\n",
       "\n",
       "    .dataframe tbody tr th {\n",
       "        vertical-align: top;\n",
       "    }\n",
       "\n",
       "    .dataframe thead th {\n",
       "        text-align: right;\n",
       "    }\n",
       "</style>\n",
       "<table border=\"1\" class=\"dataframe\">\n",
       "  <thead>\n",
       "    <tr style=\"text-align: right;\">\n",
       "      <th></th>\n",
       "      <th>donationid</th>\n",
       "      <th>projectid</th>\n",
       "      <th>donor_acctid</th>\n",
       "      <th>donor_city</th>\n",
       "      <th>donor_state</th>\n",
       "      <th>donor_zip</th>\n",
       "      <th>is_teacher_acct</th>\n",
       "      <th>donation_timestamp</th>\n",
       "      <th>donation_to_project</th>\n",
       "      <th>donation_optional_support</th>\n",
       "      <th>...</th>\n",
       "      <th>dollar_amount</th>\n",
       "      <th>donation_included_optional_support</th>\n",
       "      <th>payment_method</th>\n",
       "      <th>payment_included_acct_credit</th>\n",
       "      <th>payment_included_campaign_gift_card</th>\n",
       "      <th>payment_included_web_purchased_gift_card</th>\n",
       "      <th>payment_was_promo_matched</th>\n",
       "      <th>via_giving_page</th>\n",
       "      <th>for_honoree</th>\n",
       "      <th>donation_message</th>\n",
       "    </tr>\n",
       "  </thead>\n",
       "  <tbody>\n",
       "    <tr>\n",
       "      <th>0</th>\n",
       "      <td>431d720bc3dfd75ae445a5eaa0b0638d</td>\n",
       "      <td>ffffac55ee02a49d1abc87ba6fc61135</td>\n",
       "      <td>22cbc920c9b5fa08dfb331422f5926b5</td>\n",
       "      <td>Peachtree City</td>\n",
       "      <td>GA</td>\n",
       "      <td>30269.0</td>\n",
       "      <td>f</td>\n",
       "      <td>2011-08-25 14:27:34.807</td>\n",
       "      <td>42.50</td>\n",
       "      <td>7.50</td>\n",
       "      <td>...</td>\n",
       "      <td>10_to_100</td>\n",
       "      <td>t</td>\n",
       "      <td>no_cash_received</td>\n",
       "      <td>f</td>\n",
       "      <td>t</td>\n",
       "      <td>f</td>\n",
       "      <td>f</td>\n",
       "      <td>f</td>\n",
       "      <td>f</td>\n",
       "      <td>I gave to this project because I support the e...</td>\n",
       "    </tr>\n",
       "    <tr>\n",
       "      <th>1</th>\n",
       "      <td>fcfedba1c8a0ba77d280cace80a909f6</td>\n",
       "      <td>ffffac55ee02a49d1abc87ba6fc61135</td>\n",
       "      <td>521f1830a77c9dbbf8119d99c6206a16</td>\n",
       "      <td>NaN</td>\n",
       "      <td>GA</td>\n",
       "      <td>NaN</td>\n",
       "      <td>f</td>\n",
       "      <td>2011-11-04 07:54:21.552</td>\n",
       "      <td>26.83</td>\n",
       "      <td>4.73</td>\n",
       "      <td>...</td>\n",
       "      <td>10_to_100</td>\n",
       "      <td>t</td>\n",
       "      <td>creditcard</td>\n",
       "      <td>f</td>\n",
       "      <td>t</td>\n",
       "      <td>f</td>\n",
       "      <td>f</td>\n",
       "      <td>f</td>\n",
       "      <td>f</td>\n",
       "      <td>I donated because I want to support kids in Ge...</td>\n",
       "    </tr>\n",
       "    <tr>\n",
       "      <th>2</th>\n",
       "      <td>3fa95d29986aa6f401c6719ced3a3ce7</td>\n",
       "      <td>ffffac55ee02a49d1abc87ba6fc61135</td>\n",
       "      <td>1e0a63fc8141c7ba26b8b44ca0871b90</td>\n",
       "      <td>Rockville</td>\n",
       "      <td>MD</td>\n",
       "      <td>20853.0</td>\n",
       "      <td>f</td>\n",
       "      <td>2011-11-02 22:53:53.019</td>\n",
       "      <td>55.35</td>\n",
       "      <td>0.00</td>\n",
       "      <td>...</td>\n",
       "      <td>10_to_100</td>\n",
       "      <td>f</td>\n",
       "      <td>no_cash_received</td>\n",
       "      <td>t</td>\n",
       "      <td>f</td>\n",
       "      <td>f</td>\n",
       "      <td>f</td>\n",
       "      <td>t</td>\n",
       "      <td>f</td>\n",
       "      <td>The Spark's 'pet' projects include those which...</td>\n",
       "    </tr>\n",
       "    <tr>\n",
       "      <th>3</th>\n",
       "      <td>020ad6bd5e88a35741d23b5e08f8b8e8</td>\n",
       "      <td>ffffac55ee02a49d1abc87ba6fc61135</td>\n",
       "      <td>1d4acb508df29d5f1cc6d382969576cb</td>\n",
       "      <td>Salem</td>\n",
       "      <td>IN</td>\n",
       "      <td>47167.0</td>\n",
       "      <td>f</td>\n",
       "      <td>2011-11-03 23:54:01.109</td>\n",
       "      <td>8.50</td>\n",
       "      <td>1.50</td>\n",
       "      <td>...</td>\n",
       "      <td>10_to_100</td>\n",
       "      <td>t</td>\n",
       "      <td>paypal</td>\n",
       "      <td>f</td>\n",
       "      <td>f</td>\n",
       "      <td>f</td>\n",
       "      <td>f</td>\n",
       "      <td>f</td>\n",
       "      <td>f</td>\n",
       "      <td>I gave to this project because Education is im...</td>\n",
       "    </tr>\n",
       "    <tr>\n",
       "      <th>4</th>\n",
       "      <td>4b44b03f304d6425ae94446686f93cd6</td>\n",
       "      <td>ffffac55ee02a49d1abc87ba6fc61135</td>\n",
       "      <td>59c3c3cfcccc53ae855f7eee911c478b</td>\n",
       "      <td>anonymous</td>\n",
       "      <td>NaN</td>\n",
       "      <td>0.0</td>\n",
       "      <td>f</td>\n",
       "      <td>2011-11-02 23:21:00.043</td>\n",
       "      <td>20.00</td>\n",
       "      <td>0.00</td>\n",
       "      <td>...</td>\n",
       "      <td>10_to_100</td>\n",
       "      <td>f</td>\n",
       "      <td>no_cash_received</td>\n",
       "      <td>f</td>\n",
       "      <td>f</td>\n",
       "      <td>t</td>\n",
       "      <td>f</td>\n",
       "      <td>t</td>\n",
       "      <td>f</td>\n",
       "      <td>I lent a paw to help the children in this clas...</td>\n",
       "    </tr>\n",
       "  </tbody>\n",
       "</table>\n",
       "<p>5 rows × 21 columns</p>\n",
       "</div>"
      ],
      "text/plain": [
       "                         donationid                         projectid  \\\n",
       "0  431d720bc3dfd75ae445a5eaa0b0638d  ffffac55ee02a49d1abc87ba6fc61135   \n",
       "1  fcfedba1c8a0ba77d280cace80a909f6  ffffac55ee02a49d1abc87ba6fc61135   \n",
       "2  3fa95d29986aa6f401c6719ced3a3ce7  ffffac55ee02a49d1abc87ba6fc61135   \n",
       "3  020ad6bd5e88a35741d23b5e08f8b8e8  ffffac55ee02a49d1abc87ba6fc61135   \n",
       "4  4b44b03f304d6425ae94446686f93cd6  ffffac55ee02a49d1abc87ba6fc61135   \n",
       "\n",
       "                       donor_acctid      donor_city donor_state  donor_zip  \\\n",
       "0  22cbc920c9b5fa08dfb331422f5926b5  Peachtree City          GA    30269.0   \n",
       "1  521f1830a77c9dbbf8119d99c6206a16             NaN          GA        NaN   \n",
       "2  1e0a63fc8141c7ba26b8b44ca0871b90       Rockville          MD    20853.0   \n",
       "3  1d4acb508df29d5f1cc6d382969576cb           Salem          IN    47167.0   \n",
       "4  59c3c3cfcccc53ae855f7eee911c478b       anonymous         NaN        0.0   \n",
       "\n",
       "  is_teacher_acct       donation_timestamp  donation_to_project  \\\n",
       "0               f  2011-08-25 14:27:34.807                42.50   \n",
       "1               f  2011-11-04 07:54:21.552                26.83   \n",
       "2               f  2011-11-02 22:53:53.019                55.35   \n",
       "3               f  2011-11-03 23:54:01.109                 8.50   \n",
       "4               f  2011-11-02 23:21:00.043                20.00   \n",
       "\n",
       "   donation_optional_support  ...  dollar_amount  \\\n",
       "0                       7.50  ...      10_to_100   \n",
       "1                       4.73  ...      10_to_100   \n",
       "2                       0.00  ...      10_to_100   \n",
       "3                       1.50  ...      10_to_100   \n",
       "4                       0.00  ...      10_to_100   \n",
       "\n",
       "  donation_included_optional_support    payment_method  \\\n",
       "0                                  t  no_cash_received   \n",
       "1                                  t        creditcard   \n",
       "2                                  f  no_cash_received   \n",
       "3                                  t            paypal   \n",
       "4                                  f  no_cash_received   \n",
       "\n",
       "  payment_included_acct_credit payment_included_campaign_gift_card  \\\n",
       "0                            f                                   t   \n",
       "1                            f                                   t   \n",
       "2                            t                                   f   \n",
       "3                            f                                   f   \n",
       "4                            f                                   f   \n",
       "\n",
       "  payment_included_web_purchased_gift_card payment_was_promo_matched  \\\n",
       "0                                        f                         f   \n",
       "1                                        f                         f   \n",
       "2                                        f                         f   \n",
       "3                                        f                         f   \n",
       "4                                        t                         f   \n",
       "\n",
       "  via_giving_page for_honoree  \\\n",
       "0               f           f   \n",
       "1               f           f   \n",
       "2               t           f   \n",
       "3               f           f   \n",
       "4               t           f   \n",
       "\n",
       "                                    donation_message  \n",
       "0  I gave to this project because I support the e...  \n",
       "1  I donated because I want to support kids in Ge...  \n",
       "2  The Spark's 'pet' projects include those which...  \n",
       "3  I gave to this project because Education is im...  \n",
       "4  I lent a paw to help the children in this clas...  \n",
       "\n",
       "[5 rows x 21 columns]"
      ]
     },
     "execution_count": 2,
     "metadata": {},
     "output_type": "execute_result"
    }
   ],
   "source": [
    "df = pd.read_csv(\"donations.csv\")\n",
    "df.head()"
   ]
  },
  {
   "cell_type": "code",
   "execution_count": 3,
   "id": "9ef80bee-8593-4cf7-8f20-bc0ae0529c2f",
   "metadata": {},
   "outputs": [
    {
     "data": {
      "text/plain": [
       "(3097989, 21)"
      ]
     },
     "execution_count": 3,
     "metadata": {},
     "output_type": "execute_result"
    }
   ],
   "source": [
    "df.shape"
   ]
  },
  {
   "cell_type": "code",
   "execution_count": 4,
   "id": "94a7c7bf-0fc3-40ff-9beb-64a908e395aa",
   "metadata": {},
   "outputs": [
    {
     "name": "stdout",
     "output_type": "stream",
     "text": [
      "donationid:['431d720bc3dfd75ae445a5eaa0b0638d' 'fcfedba1c8a0ba77d280cace80a909f6'\n",
      " '3fa95d29986aa6f401c6719ced3a3ce7' ... '6852f37d0f4cb3e3707ac57f07576a3b'\n",
      " '014654dc6c8c42d9b95727364c680f64' '1f22e76fa76c2c9e8d90818b7c275845']\n",
      "projectid:['ffffac55ee02a49d1abc87ba6fc61135' 'ffff97ed93720407d70a2787475932b0'\n",
      " 'ffff418bb42fad24347527ad96100f81' ... '00002d691c05c51a5fdfbb2baef0ba25'\n",
      " '00002bff514104264a6b798356fdd893' '00001ccc0e81598c4bd86bacb94d7acb']\n",
      "donor_acctid:['22cbc920c9b5fa08dfb331422f5926b5' '521f1830a77c9dbbf8119d99c6206a16'\n",
      " '1e0a63fc8141c7ba26b8b44ca0871b90' ... 'b11824d96aa7fcf2892fcf9e0e7476c1'\n",
      " '05023fe3b8e11555088a7be84e5d6041' '7ad6abc974dd8b62773f79f6cbed48d5']\n",
      "donor_city:['Peachtree City' nan 'Rockville' ... 'Townely' 'Balto' 'Parryville']\n",
      "donor_state:['GA' 'MD' 'IN' nan 'NY' 'TX' 'ID' 'CO' '  ' 'CA' 'SC' 'IL' 'OK' 'MO' 'PA'\n",
      " 'MA' 'NJ' 'FL' 'MI' 'CT' 'TN' 'WI' 'MN' 'MS' 'DC' 'NC' 'AL' 'WA' 'VA'\n",
      " 'OR' 'AZ' 'LA' 'OH' 'KY' 'VT' 'KS' 'UT' 'IA' 'NH' 'NV' 'ME' 'HI' 'AR'\n",
      " 'NM' 'RI' 'MT' 'NE' 'WY' 'AP' 'SD' 'AK' 'DE' 'ND' 'WV' 'AS' 'VI' 'AE'\n",
      " 'GU' 'PR' 'AA' 'MP' 'HH']\n",
      "donor_zip:[30269.    nan 20853. ... 44710. 33022. 18244.]\n",
      "is_teacher_acct:['f' 't']\n",
      "donation_timestamp:['2011-08-25 14:27:34.807' '2011-11-04 07:54:21.552'\n",
      " '2011-11-02 22:53:53.019' ... '2013-05-06 15:12:21.387'\n",
      " '2013-05-23 12:19:59.516' '2013-05-06 15:12:22.77']\n",
      "donation_to_project:[  42.5    26.83   55.35 ... 1351.77  589.96 1265.32]\n",
      "donation_optional_support:[  7.5    4.73   0.   ... 166.34 238.55 223.29]\n",
      "donation_total:[  50.     31.56   55.35 ... 1590.32  719.46 1488.61]\n",
      "dollar_amount:['10_to_100' 'under_10' '100_and_up']\n",
      "donation_included_optional_support:['t' 'f']\n",
      "payment_method:['no_cash_received' 'creditcard' 'paypal' 'amazon' 'promo_code_match'\n",
      " 'check' 'double_your_impact_match' 'almost_home_match']\n",
      "payment_included_acct_credit:['f' 't']\n",
      "payment_included_campaign_gift_card:['t' 'f']\n",
      "payment_included_web_purchased_gift_card:['f' 't']\n",
      "payment_was_promo_matched:['f' 't']\n",
      "via_giving_page:['f' 't']\n",
      "for_honoree:['f' 't']\n",
      "donation_message:['I gave to this project because I support the efforts of this teacher with each of her students, and her school, Suder Elementary School.'\n",
      " 'I donated because I want to support kids in Georgia.'\n",
      " \"The Spark's 'pet' projects include those which support deaf students.  With just a few days left, the Spark's donors fund half of what remains, and challenge others to pull this project through to fruition.\"\n",
      " ... 'I gave to this project because I grew up in Arcadia!'\n",
      " 'We gave to this project because of the importance of literacy in this day and age (and because of the catchy name!  Our 2nd grade just did an oceans unit!)\\r\\\\nGood luck with your project!'\n",
      " 'I gave because my students are AWESOME and they would LOVE to PAINT!!!!']\n"
     ]
    }
   ],
   "source": [
    "for col in df.columns:\n",
    "    print(f'{col}:{df[col].unique()}')"
   ]
  },
  {
   "cell_type": "code",
   "execution_count": 5,
   "id": "8a11dd7e-2f73-4f29-8b79-d6160c15750b",
   "metadata": {},
   "outputs": [],
   "source": [
    "data1 = df[['projectid','donor_city','donor_state','donation_to_project','donation_optional_support','donation_total','donation_message']]"
   ]
  },
  {
   "cell_type": "code",
   "execution_count": 6,
   "id": "9baf889a-0a76-47d9-b994-2dfbf1600f3d",
   "metadata": {},
   "outputs": [
    {
     "data": {
      "text/plain": [
       "(3097989, 7)"
      ]
     },
     "execution_count": 6,
     "metadata": {},
     "output_type": "execute_result"
    }
   ],
   "source": [
    "data1.shape"
   ]
  },
  {
   "cell_type": "code",
   "execution_count": 7,
   "id": "47328104-e6c1-4482-b18a-389aed9d0be9",
   "metadata": {},
   "outputs": [
    {
     "data": {
      "text/plain": [
       "370680"
      ]
     },
     "execution_count": 7,
     "metadata": {},
     "output_type": "execute_result"
    }
   ],
   "source": [
    "data1.duplicated().sum()"
   ]
  },
  {
   "cell_type": "code",
   "execution_count": 8,
   "id": "fdffb678-95e3-4f40-b338-d57764d6ef6e",
   "metadata": {},
   "outputs": [],
   "source": [
    "data1 = data1.drop_duplicates()"
   ]
  },
  {
   "cell_type": "code",
   "execution_count": 9,
   "id": "138f15b9-0d51-462a-ac1b-2e101c9f1079",
   "metadata": {},
   "outputs": [],
   "source": [
    "data1 = data1.drop_duplicates(subset = ['projectid'])"
   ]
  },
  {
   "cell_type": "code",
   "execution_count": 10,
   "id": "869e56f4-8087-4d70-ba2a-23e0c4b4de1e",
   "metadata": {},
   "outputs": [
    {
     "data": {
      "text/plain": [
       "Index(['donationid', 'projectid', 'donor_acctid', 'donor_city', 'donor_state',\n",
       "       'donor_zip', 'is_teacher_acct', 'donation_timestamp',\n",
       "       'donation_to_project', 'donation_optional_support', 'donation_total',\n",
       "       'dollar_amount', 'donation_included_optional_support', 'payment_method',\n",
       "       'payment_included_acct_credit', 'payment_included_campaign_gift_card',\n",
       "       'payment_included_web_purchased_gift_card', 'payment_was_promo_matched',\n",
       "       'via_giving_page', 'for_honoree', 'donation_message'],\n",
       "      dtype='object')"
      ]
     },
     "execution_count": 10,
     "metadata": {},
     "output_type": "execute_result"
    }
   ],
   "source": [
    "df.columns"
   ]
  },
  {
   "cell_type": "code",
   "execution_count": 11,
   "id": "38cf053f-9432-429f-b156-1188bcb4508c",
   "metadata": {},
   "outputs": [
    {
     "data": {
      "text/plain": [
       "(3097989, 21)"
      ]
     },
     "execution_count": 11,
     "metadata": {},
     "output_type": "execute_result"
    }
   ],
   "source": [
    "df.shape"
   ]
  },
  {
   "cell_type": "code",
   "execution_count": 12,
   "id": "1c99be5c-726c-495f-9495-a23f9909c2d0",
   "metadata": {},
   "outputs": [
    {
     "data": {
      "text/html": [
       "<div>\n",
       "<style scoped>\n",
       "    .dataframe tbody tr th:only-of-type {\n",
       "        vertical-align: middle;\n",
       "    }\n",
       "\n",
       "    .dataframe tbody tr th {\n",
       "        vertical-align: top;\n",
       "    }\n",
       "\n",
       "    .dataframe thead th {\n",
       "        text-align: right;\n",
       "    }\n",
       "</style>\n",
       "<table border=\"1\" class=\"dataframe\">\n",
       "  <thead>\n",
       "    <tr style=\"text-align: right;\">\n",
       "      <th></th>\n",
       "      <th>projectid</th>\n",
       "      <th>teacher_acctid</th>\n",
       "      <th>title</th>\n",
       "      <th>short_description</th>\n",
       "      <th>need_statement</th>\n",
       "      <th>essay</th>\n",
       "    </tr>\n",
       "  </thead>\n",
       "  <tbody>\n",
       "    <tr>\n",
       "      <th>0</th>\n",
       "      <td>ffffc4f85b60efc5b52347df489d0238</td>\n",
       "      <td>c24011b20fc161ed02248e85beb59a90</td>\n",
       "      <td>iMath</td>\n",
       "      <td>It is imperative that teachers bring technolog...</td>\n",
       "      <td>My students need four iPods.</td>\n",
       "      <td>I am a fourth year fifth grade math teacher. T...</td>\n",
       "    </tr>\n",
       "    <tr>\n",
       "      <th>1</th>\n",
       "      <td>ffffac55ee02a49d1abc87ba6fc61135</td>\n",
       "      <td>947066d0af47e0566f334566553dd6a6</td>\n",
       "      <td>Recording Rockin' Readers</td>\n",
       "      <td>Can you imagine having to translate everything...</td>\n",
       "      <td>My students need a camcorder.</td>\n",
       "      <td>Can you imagine having to translate everything...</td>\n",
       "    </tr>\n",
       "    <tr>\n",
       "      <th>2</th>\n",
       "      <td>ffff97ed93720407d70a2787475932b0</td>\n",
       "      <td>462270f5d5c212162fcab11afa2623cb</td>\n",
       "      <td>Kindergarten In Need of Important Materials!</td>\n",
       "      <td>It takes a special person to donate to a group...</td>\n",
       "      <td>My students need 17 assorted classroom materia...</td>\n",
       "      <td>Hi. I teach a wonderful group of 4-5 year old ...</td>\n",
       "    </tr>\n",
       "    <tr>\n",
       "      <th>3</th>\n",
       "      <td>ffff7266778f71242675416e600b94e1</td>\n",
       "      <td>b9a8f14199e0d8109200ece179281f4f</td>\n",
       "      <td>Let's Find Out!</td>\n",
       "      <td>My Kindergarten students come from a variety o...</td>\n",
       "      <td>My students need 25 copies of Scholastic's \"Le...</td>\n",
       "      <td>My Kindergarten students come from a variety o...</td>\n",
       "    </tr>\n",
       "    <tr>\n",
       "      <th>4</th>\n",
       "      <td>ffff418bb42fad24347527ad96100f81</td>\n",
       "      <td>e885fb002a1d0d39aaed9d21a7683549</td>\n",
       "      <td>Whistle While We Work!</td>\n",
       "      <td>By using the cross curricular games requested,...</td>\n",
       "      <td>My students need grade level appropriate games...</td>\n",
       "      <td>All work and no play makes school a dull place...</td>\n",
       "    </tr>\n",
       "  </tbody>\n",
       "</table>\n",
       "</div>"
      ],
      "text/plain": [
       "                          projectid                    teacher_acctid  \\\n",
       "0  ffffc4f85b60efc5b52347df489d0238  c24011b20fc161ed02248e85beb59a90   \n",
       "1  ffffac55ee02a49d1abc87ba6fc61135  947066d0af47e0566f334566553dd6a6   \n",
       "2  ffff97ed93720407d70a2787475932b0  462270f5d5c212162fcab11afa2623cb   \n",
       "3  ffff7266778f71242675416e600b94e1  b9a8f14199e0d8109200ece179281f4f   \n",
       "4  ffff418bb42fad24347527ad96100f81  e885fb002a1d0d39aaed9d21a7683549   \n",
       "\n",
       "                                          title  \\\n",
       "0                                         iMath   \n",
       "1                     Recording Rockin' Readers   \n",
       "2  Kindergarten In Need of Important Materials!   \n",
       "3                               Let's Find Out!   \n",
       "4                        Whistle While We Work!   \n",
       "\n",
       "                                   short_description  \\\n",
       "0  It is imperative that teachers bring technolog...   \n",
       "1  Can you imagine having to translate everything...   \n",
       "2  It takes a special person to donate to a group...   \n",
       "3  My Kindergarten students come from a variety o...   \n",
       "4  By using the cross curricular games requested,...   \n",
       "\n",
       "                                      need_statement  \\\n",
       "0                       My students need four iPods.   \n",
       "1                     My students need a camcorder.    \n",
       "2  My students need 17 assorted classroom materia...   \n",
       "3  My students need 25 copies of Scholastic's \"Le...   \n",
       "4  My students need grade level appropriate games...   \n",
       "\n",
       "                                               essay  \n",
       "0  I am a fourth year fifth grade math teacher. T...  \n",
       "1  Can you imagine having to translate everything...  \n",
       "2  Hi. I teach a wonderful group of 4-5 year old ...  \n",
       "3  My Kindergarten students come from a variety o...  \n",
       "4  All work and no play makes school a dull place...  "
      ]
     },
     "execution_count": 12,
     "metadata": {},
     "output_type": "execute_result"
    }
   ],
   "source": [
    "df1 = pd.read_csv(\"essays.csv\")\n",
    "df1.head()"
   ]
  },
  {
   "cell_type": "code",
   "execution_count": 13,
   "id": "165b2825-e469-47b6-94b6-942f74f8ccab",
   "metadata": {},
   "outputs": [
    {
     "data": {
      "text/plain": [
       "(664098, 6)"
      ]
     },
     "execution_count": 13,
     "metadata": {},
     "output_type": "execute_result"
    }
   ],
   "source": [
    "df1.shape"
   ]
  },
  {
   "cell_type": "code",
   "execution_count": 14,
   "id": "7bf4294a-44f9-44f2-9353-732cb038d88a",
   "metadata": {},
   "outputs": [
    {
     "name": "stdout",
     "output_type": "stream",
     "text": [
      "projectid:['ffffc4f85b60efc5b52347df489d0238']\n",
      "teacher_acctid:['c24011b20fc161ed02248e85beb59a90']\n",
      "title:['iMath']\n",
      "short_description:['It is imperative that teachers bring technology into the classroom, if students are going to be able to survive in the 21st Century. The classroom needs to be ever changing along with the outside world. The iMath project will help students by obtaining classroom subject...']\n",
      "need_statement:['My students need four iPods.']\n",
      "essay:[\"I am a fourth year fifth grade math teacher. The school I teach in is a fifth and sixth grade public school and is a Title One school which means that 95% of our students get free lunch. Presently, I am in the process of completing a Masters degree in Technology in Education through Lesley University. My coursework through Lesley University is allowing me to continue to be a lifelong learner and allow my students to learn in an environment that they can be successful in. Technology has a huge impact on my students' involvement in the classroom. I would like the opportunity to introduce more technology in the classroom, but I need the help of wonderful people like you. \\r\\\\n\\r\\\\nI would like to introduce to my students the program I call iMath. Through the iMath program I would integrate iPods into my math curriculum. It would allow students to practice their math facts, construct projects, create podcasts, listen to tests, and review lessons. iPods would allow my students to learn on their own, with other classmates, or with the entire class. Having iPods in the classroom would not only encourage students to get excited about learning math, it would also make it easier for me to accommodate students who have special needs. This includes having tests read aloud to them or reviewing the day’s lesson played back on the iPod. \\r\\\\n\\r\\\\nStudents continue to struggle with learning their basic facts. As a teacher, I have tried many different ways to help them learn, including using food, manipulatives, and flash cards. I would like to now venture out and try using innovative technology which is what students use every day. Students are used to playing video games and having technology at their finger tips. Unfortunately, I work in a Title One School and don’t have the funds to purchase the desired technology. With your help I could get the technology needed to change my students' minds about how they feel about math. \\r\\\\n\\r\\\\nIt is imperative that teachers bring technology into the classroom, if students are going to be able to survive in the 21st Century. The classroom needs to be ever changing along with the outside world. The iMath project will help students by obtaining classroom subject proficiency through a wide variety of learning methods while using the iPods. According to an Article in iLearn called 21st Century Literacy, “students learn best when they build critical thinking and problem solving skills instead of memorization.” I want to create a 21st century classroom where students learn to become lifelong learners. Your help will help me reach my goals and my students goals.\"]\n"
     ]
    }
   ],
   "source": [
    "for col in df1.columns:\n",
    "    print(f'{col}:{df1[col].unique()[0:1]}')"
   ]
  },
  {
   "cell_type": "code",
   "execution_count": 15,
   "id": "cfdb89bc-c120-444c-8693-2c7fc60ee42a",
   "metadata": {},
   "outputs": [],
   "source": [
    "data2 = df1"
   ]
  },
  {
   "cell_type": "code",
   "execution_count": 16,
   "id": "6ee9c6cb-38e5-4f79-af1c-2a812284d275",
   "metadata": {},
   "outputs": [
    {
     "data": {
      "text/plain": [
       "0"
      ]
     },
     "execution_count": 16,
     "metadata": {},
     "output_type": "execute_result"
    }
   ],
   "source": [
    "data2.duplicated().sum()"
   ]
  },
  {
   "cell_type": "code",
   "execution_count": 17,
   "id": "a06d69f8-633a-434a-8256-a49b0655c36b",
   "metadata": {},
   "outputs": [],
   "source": [
    "data2 = data2.drop_duplicates(subset = ['projectid'])"
   ]
  },
  {
   "cell_type": "code",
   "execution_count": 18,
   "id": "7feaeac5-9921-4bad-8e2d-71dabf9c3986",
   "metadata": {},
   "outputs": [],
   "source": [
    "df2 = pd.read_csv(\"outcomes.csv\")"
   ]
  },
  {
   "cell_type": "code",
   "execution_count": 19,
   "id": "e15f2ab3-d53b-411e-b020-aad55c1da736",
   "metadata": {},
   "outputs": [
    {
     "data": {
      "text/html": [
       "<div>\n",
       "<style scoped>\n",
       "    .dataframe tbody tr th:only-of-type {\n",
       "        vertical-align: middle;\n",
       "    }\n",
       "\n",
       "    .dataframe tbody tr th {\n",
       "        vertical-align: top;\n",
       "    }\n",
       "\n",
       "    .dataframe thead th {\n",
       "        text-align: right;\n",
       "    }\n",
       "</style>\n",
       "<table border=\"1\" class=\"dataframe\">\n",
       "  <thead>\n",
       "    <tr style=\"text-align: right;\">\n",
       "      <th></th>\n",
       "      <th>projectid</th>\n",
       "      <th>is_exciting</th>\n",
       "      <th>at_least_1_teacher_referred_donor</th>\n",
       "      <th>fully_funded</th>\n",
       "      <th>at_least_1_green_donation</th>\n",
       "      <th>great_chat</th>\n",
       "      <th>three_or_more_non_teacher_referred_donors</th>\n",
       "      <th>one_non_teacher_referred_donor_giving_100_plus</th>\n",
       "      <th>donation_from_thoughtful_donor</th>\n",
       "      <th>great_messages_proportion</th>\n",
       "      <th>teacher_referred_count</th>\n",
       "      <th>non_teacher_referred_count</th>\n",
       "    </tr>\n",
       "  </thead>\n",
       "  <tbody>\n",
       "    <tr>\n",
       "      <th>0</th>\n",
       "      <td>ffffc4f85b60efc5b52347df489d0238</td>\n",
       "      <td>f</td>\n",
       "      <td>NaN</td>\n",
       "      <td>f</td>\n",
       "      <td>NaN</td>\n",
       "      <td>f</td>\n",
       "      <td>NaN</td>\n",
       "      <td>NaN</td>\n",
       "      <td>NaN</td>\n",
       "      <td>NaN</td>\n",
       "      <td>NaN</td>\n",
       "      <td>NaN</td>\n",
       "    </tr>\n",
       "    <tr>\n",
       "      <th>1</th>\n",
       "      <td>ffffac55ee02a49d1abc87ba6fc61135</td>\n",
       "      <td>f</td>\n",
       "      <td>f</td>\n",
       "      <td>t</td>\n",
       "      <td>t</td>\n",
       "      <td>f</td>\n",
       "      <td>t</td>\n",
       "      <td>f</td>\n",
       "      <td>f</td>\n",
       "      <td>57.0</td>\n",
       "      <td>0.0</td>\n",
       "      <td>7.0</td>\n",
       "    </tr>\n",
       "    <tr>\n",
       "      <th>2</th>\n",
       "      <td>ffff97ed93720407d70a2787475932b0</td>\n",
       "      <td>f</td>\n",
       "      <td>f</td>\n",
       "      <td>t</td>\n",
       "      <td>t</td>\n",
       "      <td>t</td>\n",
       "      <td>t</td>\n",
       "      <td>t</td>\n",
       "      <td>f</td>\n",
       "      <td>100.0</td>\n",
       "      <td>0.0</td>\n",
       "      <td>3.0</td>\n",
       "    </tr>\n",
       "    <tr>\n",
       "      <th>3</th>\n",
       "      <td>ffff418bb42fad24347527ad96100f81</td>\n",
       "      <td>f</td>\n",
       "      <td>f</td>\n",
       "      <td>f</td>\n",
       "      <td>t</td>\n",
       "      <td>t</td>\n",
       "      <td>f</td>\n",
       "      <td>f</td>\n",
       "      <td>f</td>\n",
       "      <td>100.0</td>\n",
       "      <td>0.0</td>\n",
       "      <td>1.0</td>\n",
       "    </tr>\n",
       "    <tr>\n",
       "      <th>4</th>\n",
       "      <td>ffff2d9c769c8fb5335e949c615425eb</td>\n",
       "      <td>t</td>\n",
       "      <td>t</td>\n",
       "      <td>t</td>\n",
       "      <td>t</td>\n",
       "      <td>t</td>\n",
       "      <td>f</td>\n",
       "      <td>t</td>\n",
       "      <td>f</td>\n",
       "      <td>63.0</td>\n",
       "      <td>6.0</td>\n",
       "      <td>2.0</td>\n",
       "    </tr>\n",
       "  </tbody>\n",
       "</table>\n",
       "</div>"
      ],
      "text/plain": [
       "                          projectid is_exciting  \\\n",
       "0  ffffc4f85b60efc5b52347df489d0238           f   \n",
       "1  ffffac55ee02a49d1abc87ba6fc61135           f   \n",
       "2  ffff97ed93720407d70a2787475932b0           f   \n",
       "3  ffff418bb42fad24347527ad96100f81           f   \n",
       "4  ffff2d9c769c8fb5335e949c615425eb           t   \n",
       "\n",
       "  at_least_1_teacher_referred_donor fully_funded at_least_1_green_donation  \\\n",
       "0                               NaN            f                       NaN   \n",
       "1                                 f            t                         t   \n",
       "2                                 f            t                         t   \n",
       "3                                 f            f                         t   \n",
       "4                                 t            t                         t   \n",
       "\n",
       "  great_chat three_or_more_non_teacher_referred_donors  \\\n",
       "0          f                                       NaN   \n",
       "1          f                                         t   \n",
       "2          t                                         t   \n",
       "3          t                                         f   \n",
       "4          t                                         f   \n",
       "\n",
       "  one_non_teacher_referred_donor_giving_100_plus  \\\n",
       "0                                            NaN   \n",
       "1                                              f   \n",
       "2                                              t   \n",
       "3                                              f   \n",
       "4                                              t   \n",
       "\n",
       "  donation_from_thoughtful_donor  great_messages_proportion  \\\n",
       "0                            NaN                        NaN   \n",
       "1                              f                       57.0   \n",
       "2                              f                      100.0   \n",
       "3                              f                      100.0   \n",
       "4                              f                       63.0   \n",
       "\n",
       "   teacher_referred_count  non_teacher_referred_count  \n",
       "0                     NaN                         NaN  \n",
       "1                     0.0                         7.0  \n",
       "2                     0.0                         3.0  \n",
       "3                     0.0                         1.0  \n",
       "4                     6.0                         2.0  "
      ]
     },
     "execution_count": 19,
     "metadata": {},
     "output_type": "execute_result"
    }
   ],
   "source": [
    "df2.head()"
   ]
  },
  {
   "cell_type": "code",
   "execution_count": 20,
   "id": "3dfb1856-d9d0-4ef1-8a10-1ba8f6f24288",
   "metadata": {},
   "outputs": [
    {
     "data": {
      "text/plain": [
       "(619326, 12)"
      ]
     },
     "execution_count": 20,
     "metadata": {},
     "output_type": "execute_result"
    }
   ],
   "source": [
    "df2.shape"
   ]
  },
  {
   "cell_type": "code",
   "execution_count": 21,
   "id": "662a3364-b7b4-4e5a-9044-2edc38764ca7",
   "metadata": {},
   "outputs": [
    {
     "name": "stdout",
     "output_type": "stream",
     "text": [
      "projectid:['ffffc4f85b60efc5b52347df489d0238' 'ffffac55ee02a49d1abc87ba6fc61135'\n",
      " 'ffff97ed93720407d70a2787475932b0' ... '00002d691c05c51a5fdfbb2baef0ba25'\n",
      " '00002bff514104264a6b798356fdd893' '00001ccc0e81598c4bd86bacb94d7acb']\n",
      "is_exciting:['f' 't']\n",
      "at_least_1_teacher_referred_donor:[nan 'f' 't']\n",
      "fully_funded:['f' 't']\n",
      "at_least_1_green_donation:[nan 't' 'f']\n",
      "great_chat:['f' 't']\n",
      "three_or_more_non_teacher_referred_donors:[nan 't' 'f']\n",
      "one_non_teacher_referred_donor_giving_100_plus:[nan 'f' 't']\n",
      "donation_from_thoughtful_donor:[nan 'f' 't']\n",
      "great_messages_proportion:[ nan  57. 100.  63.   0.  60.  80.  66.  58.  73.  25.  69.  85.  39.\n",
      "  50.  75.  51.  22.  84.  14.  42.  33.  55.   5.  28.  20.  90.  16.\n",
      "  88.  83.  17.  54.  45.  81.  40.  56.  44.  46.  62.  31.  64.  59.\n",
      "  87.  72.   9.  35.  37.  61.  47.  71.  15.  41.  77.  53.  92.  21.\n",
      "  48.  93.   4.  27.  52.  38.  82.  70.  86.  65.  68.  10.  23.  36.\n",
      "  18.  11.  98.   7.  30.  12.   8.  43.  78.  89.   6.  91.  26.  76.\n",
      "  29.   2.  32.  13.  79.   1.  94.  19.  34.  74.  67.  24.  95.   3.\n",
      "  97.  49.  96.  99.]\n",
      "teacher_referred_count:[ nan   0.   6.   1.   2.   3.   4.   7.   5.   8.  10.  16.  15.  46.\n",
      "  11.  13.  47.   9.  21.  27.  14.  36.  28.  12.  20.  19.  18.  17.\n",
      "  25.  29. 108.  26.  51.  31.  22.  24.  35.  37.  23.  34.  78.  33.\n",
      "  30.  48.  40.  39. 105.  49.  32.  58.  44.  62.  50.  45.  56.  66.\n",
      "  41.  43.  76.  64.  60. 151.  83.  52.  63.  42.  73.  59.  65.  38.\n",
      "  87.  54.  95.  71. 125. 101.  72.  85.  57.  61.  96.  89.]\n",
      "non_teacher_referred_count:[ nan   7.   3.   1.   2.  10.   4.   5.  11.  42.  13.   8.  38.  18.\n",
      "   9.  28.   6.  20.  12.  17.  22.  29.  36.  39.  23.  25.  27.  19.\n",
      "  16.   0.  14.  21.  60.  40.  31.  15.  24.  44.  63.  30.  26.  34.\n",
      "  48.  70.  33.  53.  46.  45.  49.  37.  35.  86. 101.  50.  52.  88.\n",
      "  41.  32.  62. 131.  56.  71.  59.  47.  82.  43.  66.  51.  74.  58.\n",
      "  61.  57.  67.  69.  54.  73.  55.  64.  80.  65. 128. 139.  77. 147.\n",
      " 121. 103. 107.  79.  72.  90.  75.  78.  84.  68.  81. 129.  85. 256.\n",
      "  87. 108. 156. 158.  76.  92. 117.  83. 304.  93. 157.  89.  98. 111.\n",
      " 138.  99. 118. 136. 106. 208. 100. 161. 130.  97. 170.  91. 125. 112.\n",
      " 237. 132. 178. 126. 114.  95.  96. 162. 228.]\n"
     ]
    }
   ],
   "source": [
    "for col in df2.columns:\n",
    "    print(f'{col}:{df2[col].unique()}')"
   ]
  },
  {
   "cell_type": "code",
   "execution_count": 22,
   "id": "25a13c02-9d29-4e05-ac8a-cbca8eaf1723",
   "metadata": {},
   "outputs": [
    {
     "data": {
      "text/plain": [
       "Index(['projectid', 'is_exciting', 'at_least_1_teacher_referred_donor',\n",
       "       'fully_funded', 'at_least_1_green_donation', 'great_chat',\n",
       "       'three_or_more_non_teacher_referred_donors',\n",
       "       'one_non_teacher_referred_donor_giving_100_plus',\n",
       "       'donation_from_thoughtful_donor', 'great_messages_proportion',\n",
       "       'teacher_referred_count', 'non_teacher_referred_count'],\n",
       "      dtype='object')"
      ]
     },
     "execution_count": 22,
     "metadata": {},
     "output_type": "execute_result"
    }
   ],
   "source": [
    "df2.columns"
   ]
  },
  {
   "cell_type": "code",
   "execution_count": 23,
   "id": "f2385845-9be6-4254-9ef9-16b82298169c",
   "metadata": {},
   "outputs": [],
   "source": [
    "data3 = df2[['projectid', 'is_exciting', 'at_least_1_teacher_referred_donor',\n",
    "       'fully_funded', 'at_least_1_green_donation', 'great_chat']]"
   ]
  },
  {
   "cell_type": "code",
   "execution_count": 24,
   "id": "1407f94a-bda1-4fcf-bd2e-73ec7316a9a1",
   "metadata": {},
   "outputs": [
    {
     "data": {
      "text/plain": [
       "0"
      ]
     },
     "execution_count": 24,
     "metadata": {},
     "output_type": "execute_result"
    }
   ],
   "source": [
    "data3.duplicated().sum()"
   ]
  },
  {
   "cell_type": "code",
   "execution_count": 25,
   "id": "36934c5a-18d0-4dc2-a90d-473be42e4460",
   "metadata": {},
   "outputs": [],
   "source": [
    "data3 = data3.drop_duplicates(subset = ['projectid'])"
   ]
  },
  {
   "cell_type": "code",
   "execution_count": 26,
   "id": "92db87af-cb24-4121-b622-cec8d6a92eb5",
   "metadata": {},
   "outputs": [
    {
     "data": {
      "text/html": [
       "<div>\n",
       "<style scoped>\n",
       "    .dataframe tbody tr th:only-of-type {\n",
       "        vertical-align: middle;\n",
       "    }\n",
       "\n",
       "    .dataframe tbody tr th {\n",
       "        vertical-align: top;\n",
       "    }\n",
       "\n",
       "    .dataframe thead th {\n",
       "        text-align: right;\n",
       "    }\n",
       "</style>\n",
       "<table border=\"1\" class=\"dataframe\">\n",
       "  <thead>\n",
       "    <tr style=\"text-align: right;\">\n",
       "      <th></th>\n",
       "      <th>projectid</th>\n",
       "      <th>teacher_acctid</th>\n",
       "      <th>schoolid</th>\n",
       "      <th>school_ncesid</th>\n",
       "      <th>school_latitude</th>\n",
       "      <th>school_longitude</th>\n",
       "      <th>school_city</th>\n",
       "      <th>school_state</th>\n",
       "      <th>school_zip</th>\n",
       "      <th>school_metro</th>\n",
       "      <th>...</th>\n",
       "      <th>resource_type</th>\n",
       "      <th>poverty_level</th>\n",
       "      <th>grade_level</th>\n",
       "      <th>fulfillment_labor_materials</th>\n",
       "      <th>total_price_excluding_optional_support</th>\n",
       "      <th>total_price_including_optional_support</th>\n",
       "      <th>students_reached</th>\n",
       "      <th>eligible_double_your_impact_match</th>\n",
       "      <th>eligible_almost_home_match</th>\n",
       "      <th>date_posted</th>\n",
       "    </tr>\n",
       "  </thead>\n",
       "  <tbody>\n",
       "    <tr>\n",
       "      <th>0</th>\n",
       "      <td>316ed8fb3b81402ff6ac8f721bb31192</td>\n",
       "      <td>42d43fa6f37314365d08692e08680973</td>\n",
       "      <td>c0e6ce89b244764085691a1b8e28cb81</td>\n",
       "      <td>6.362701e+10</td>\n",
       "      <td>36.576340</td>\n",
       "      <td>-119.608713</td>\n",
       "      <td>Selma</td>\n",
       "      <td>CA</td>\n",
       "      <td>93662.0</td>\n",
       "      <td>NaN</td>\n",
       "      <td>...</td>\n",
       "      <td>Books</td>\n",
       "      <td>highest poverty</td>\n",
       "      <td>Grades 6-8</td>\n",
       "      <td>30.0</td>\n",
       "      <td>555.81</td>\n",
       "      <td>653.89</td>\n",
       "      <td>32.0</td>\n",
       "      <td>f</td>\n",
       "      <td>f</td>\n",
       "      <td>2014-05-12</td>\n",
       "    </tr>\n",
       "    <tr>\n",
       "      <th>1</th>\n",
       "      <td>90de744e368a7e4883223ca49318ae30</td>\n",
       "      <td>864eb466462bf704bf7a16a585ef296a</td>\n",
       "      <td>d711e47810900c96f26a5d0be30c446d</td>\n",
       "      <td>4.837020e+11</td>\n",
       "      <td>32.911179</td>\n",
       "      <td>-96.723640</td>\n",
       "      <td>Dallas</td>\n",
       "      <td>TX</td>\n",
       "      <td>75243.0</td>\n",
       "      <td>urban</td>\n",
       "      <td>...</td>\n",
       "      <td>Books</td>\n",
       "      <td>highest poverty</td>\n",
       "      <td>Grades PreK-2</td>\n",
       "      <td>30.0</td>\n",
       "      <td>296.47</td>\n",
       "      <td>348.79</td>\n",
       "      <td>22.0</td>\n",
       "      <td>f</td>\n",
       "      <td>f</td>\n",
       "      <td>2014-05-12</td>\n",
       "    </tr>\n",
       "    <tr>\n",
       "      <th>2</th>\n",
       "      <td>32943bb1063267de6ed19fc0ceb4b9a7</td>\n",
       "      <td>37f85135259ece793213aca9d8765542</td>\n",
       "      <td>665c3613013ba0a66e3a2a26b89f1b68</td>\n",
       "      <td>4.103270e+11</td>\n",
       "      <td>45.166039</td>\n",
       "      <td>-122.414576</td>\n",
       "      <td>Colton</td>\n",
       "      <td>OR</td>\n",
       "      <td>97017.0</td>\n",
       "      <td>rural</td>\n",
       "      <td>...</td>\n",
       "      <td>Technology</td>\n",
       "      <td>high poverty</td>\n",
       "      <td>Grades PreK-2</td>\n",
       "      <td>30.0</td>\n",
       "      <td>430.89</td>\n",
       "      <td>506.93</td>\n",
       "      <td>17.0</td>\n",
       "      <td>f</td>\n",
       "      <td>f</td>\n",
       "      <td>2014-05-11</td>\n",
       "    </tr>\n",
       "    <tr>\n",
       "      <th>3</th>\n",
       "      <td>bb18f409abda2f264d5acda8cab577a9</td>\n",
       "      <td>2133fc46f951f1e7d60645b0f9e48a6c</td>\n",
       "      <td>4f12c3fa0c1cce823c7ba1df57e90ccb</td>\n",
       "      <td>3.600153e+11</td>\n",
       "      <td>40.641727</td>\n",
       "      <td>-73.965655</td>\n",
       "      <td>Brooklyn</td>\n",
       "      <td>NY</td>\n",
       "      <td>11226.0</td>\n",
       "      <td>urban</td>\n",
       "      <td>...</td>\n",
       "      <td>Books</td>\n",
       "      <td>highest poverty</td>\n",
       "      <td>Grades 3-5</td>\n",
       "      <td>30.0</td>\n",
       "      <td>576.07</td>\n",
       "      <td>677.73</td>\n",
       "      <td>12.0</td>\n",
       "      <td>f</td>\n",
       "      <td>f</td>\n",
       "      <td>2014-05-11</td>\n",
       "    </tr>\n",
       "    <tr>\n",
       "      <th>4</th>\n",
       "      <td>24761b686e18e5eace634607acbcc19f</td>\n",
       "      <td>867ff478a63f5457eaf41049536c47cd</td>\n",
       "      <td>10179fd362d7b8cf0e89baa1ca3025bb</td>\n",
       "      <td>6.227100e+10</td>\n",
       "      <td>34.043939</td>\n",
       "      <td>-118.288371</td>\n",
       "      <td>Los Angeles</td>\n",
       "      <td>CA</td>\n",
       "      <td>90006.0</td>\n",
       "      <td>urban</td>\n",
       "      <td>...</td>\n",
       "      <td>Other</td>\n",
       "      <td>highest poverty</td>\n",
       "      <td>Grades PreK-2</td>\n",
       "      <td>30.0</td>\n",
       "      <td>408.40</td>\n",
       "      <td>480.47</td>\n",
       "      <td>24.0</td>\n",
       "      <td>f</td>\n",
       "      <td>f</td>\n",
       "      <td>2014-05-11</td>\n",
       "    </tr>\n",
       "  </tbody>\n",
       "</table>\n",
       "<p>5 rows × 35 columns</p>\n",
       "</div>"
      ],
      "text/plain": [
       "                          projectid                    teacher_acctid  \\\n",
       "0  316ed8fb3b81402ff6ac8f721bb31192  42d43fa6f37314365d08692e08680973   \n",
       "1  90de744e368a7e4883223ca49318ae30  864eb466462bf704bf7a16a585ef296a   \n",
       "2  32943bb1063267de6ed19fc0ceb4b9a7  37f85135259ece793213aca9d8765542   \n",
       "3  bb18f409abda2f264d5acda8cab577a9  2133fc46f951f1e7d60645b0f9e48a6c   \n",
       "4  24761b686e18e5eace634607acbcc19f  867ff478a63f5457eaf41049536c47cd   \n",
       "\n",
       "                           schoolid  school_ncesid  school_latitude  \\\n",
       "0  c0e6ce89b244764085691a1b8e28cb81   6.362701e+10        36.576340   \n",
       "1  d711e47810900c96f26a5d0be30c446d   4.837020e+11        32.911179   \n",
       "2  665c3613013ba0a66e3a2a26b89f1b68   4.103270e+11        45.166039   \n",
       "3  4f12c3fa0c1cce823c7ba1df57e90ccb   3.600153e+11        40.641727   \n",
       "4  10179fd362d7b8cf0e89baa1ca3025bb   6.227100e+10        34.043939   \n",
       "\n",
       "   school_longitude  school_city school_state  school_zip school_metro  ...  \\\n",
       "0       -119.608713        Selma           CA     93662.0          NaN  ...   \n",
       "1        -96.723640       Dallas           TX     75243.0        urban  ...   \n",
       "2       -122.414576       Colton           OR     97017.0        rural  ...   \n",
       "3        -73.965655     Brooklyn           NY     11226.0        urban  ...   \n",
       "4       -118.288371  Los Angeles           CA     90006.0        urban  ...   \n",
       "\n",
       "  resource_type    poverty_level    grade_level fulfillment_labor_materials  \\\n",
       "0         Books  highest poverty     Grades 6-8                        30.0   \n",
       "1         Books  highest poverty  Grades PreK-2                        30.0   \n",
       "2    Technology     high poverty  Grades PreK-2                        30.0   \n",
       "3         Books  highest poverty     Grades 3-5                        30.0   \n",
       "4         Other  highest poverty  Grades PreK-2                        30.0   \n",
       "\n",
       "  total_price_excluding_optional_support  \\\n",
       "0                                 555.81   \n",
       "1                                 296.47   \n",
       "2                                 430.89   \n",
       "3                                 576.07   \n",
       "4                                 408.40   \n",
       "\n",
       "  total_price_including_optional_support students_reached  \\\n",
       "0                                 653.89             32.0   \n",
       "1                                 348.79             22.0   \n",
       "2                                 506.93             17.0   \n",
       "3                                 677.73             12.0   \n",
       "4                                 480.47             24.0   \n",
       "\n",
       "  eligible_double_your_impact_match eligible_almost_home_match date_posted  \n",
       "0                                 f                          f  2014-05-12  \n",
       "1                                 f                          f  2014-05-12  \n",
       "2                                 f                          f  2014-05-11  \n",
       "3                                 f                          f  2014-05-11  \n",
       "4                                 f                          f  2014-05-11  \n",
       "\n",
       "[5 rows x 35 columns]"
      ]
     },
     "execution_count": 26,
     "metadata": {},
     "output_type": "execute_result"
    }
   ],
   "source": [
    "df3 = pd.read_csv(\"projects.csv\")\n",
    "df3.head()"
   ]
  },
  {
   "cell_type": "code",
   "execution_count": 27,
   "id": "7f7e0ed1-96c9-4124-b51a-7384c66022df",
   "metadata": {},
   "outputs": [
    {
     "data": {
      "text/plain": [
       "(664098, 35)"
      ]
     },
     "execution_count": 27,
     "metadata": {},
     "output_type": "execute_result"
    }
   ],
   "source": [
    "df3.shape"
   ]
  },
  {
   "cell_type": "code",
   "execution_count": 28,
   "id": "d24b7669-f51b-42fd-93f2-19528ff8162e",
   "metadata": {},
   "outputs": [
    {
     "name": "stdout",
     "output_type": "stream",
     "text": [
      "projectid:['316ed8fb3b81402ff6ac8f721bb31192' '90de744e368a7e4883223ca49318ae30'\n",
      " '32943bb1063267de6ed19fc0ceb4b9a7' 'bb18f409abda2f264d5acda8cab577a9'\n",
      " '24761b686e18e5eace634607acbcc19f' 'eac7d156205f1333de3887d656f46611'\n",
      " '5a3bfdf2e05781ccd0654dee0d51d1cd' 'afda16eb54d8992db7bb42923b2a0c69'\n",
      " '2ab3efb23acc84017cd7896f62c2e889' '3118962680bb062323c3566197487315']\n",
      "teacher_acctid:['42d43fa6f37314365d08692e08680973' '864eb466462bf704bf7a16a585ef296a'\n",
      " '37f85135259ece793213aca9d8765542' '2133fc46f951f1e7d60645b0f9e48a6c'\n",
      " '867ff478a63f5457eaf41049536c47cd' 'ff064802c18e68db7ddb7ea0bf7732e8'\n",
      " '085794a9e315b88cb7aec548831572f5' '1d94a31c2dc38d51350eb26a4a2d892c'\n",
      " '5a497c425e05bb193564ef3ce2cbf3b6' 'eb0855cc6ea55d173ca8f8e4fd6a9e18']\n",
      "schoolid:['c0e6ce89b244764085691a1b8e28cb81' 'd711e47810900c96f26a5d0be30c446d'\n",
      " '665c3613013ba0a66e3a2a26b89f1b68' '4f12c3fa0c1cce823c7ba1df57e90ccb'\n",
      " '10179fd362d7b8cf0e89baa1ca3025bb' '929336e5a242d2e67f1a591196ba7701'\n",
      " 'dc34b021fd177cfdb22f22055ca9d04f' '86fff7caa07e4f595a716d8a1960f09e'\n",
      " 'ed170a147cd8ee2391b54b2f8b206160' '71b4dee33799c2111773bb4444766bf0']\n",
      "school_ncesid:[6.36270062e+10 4.83702008e+11 4.10327000e+11 3.60015303e+11\n",
      " 6.22710032e+10 4.01870011e+10 1.00600003e+10 1.30129001e+11\n",
      " 2.61200001e+11 3.40264001e+11]\n",
      "school_latitude:[36.57634  32.911179 45.166039 40.641727 34.043939 33.298792 32.838778\n",
      " 33.896013 42.422054 39.951767]\n",
      "school_longitude:[-119.608713  -96.72364  -122.414576  -73.965655 -118.288371 -111.827793\n",
      "  -85.517527  -84.554213  -83.209656  -75.117188]\n",
      "school_city:['Selma' 'Dallas' 'Colton' 'Brooklyn' 'Los Angeles' 'Chandler' 'Lafayette'\n",
      " 'Marietta' 'Detroit' 'Camden']\n",
      "school_state:['CA' 'TX' 'OR' 'NY' 'AZ' 'AL' 'GA' 'MI' 'NJ' 'NC']\n",
      "school_zip:[93662. 75243. 97017. 11226. 90006. 85225. 36862. 30060. 48235.  8102.]\n",
      "school_metro:[nan 'urban' 'rural' 'suburban']\n",
      "school_district:['Selma Unified Sch District' 'Richardson Ind School District'\n",
      " 'Colton School District 53' 'New York City Dept Of Ed'\n",
      " 'Los Angeles Unif Sch Dist' 'Chandler Unif School Dist 80'\n",
      " 'Chambers Co School District' 'Cobb Co School District'\n",
      " 'Detroit Public School District' 'Camden City School District']\n",
      "school_county:['Fresno' 'Dallas' 'Clackamas' 'Kings (Brooklyn)' 'Los Angeles' 'Maricopa'\n",
      " 'Chambers' 'Cobb' 'Wayne' 'Camden']\n",
      "school_charter:['f' 't']\n",
      "school_magnet:['f' 't']\n",
      "school_year_round:['f' 't']\n",
      "school_nlns:['f' 't']\n",
      "school_kipp:['f' 't']\n",
      "school_charter_ready_promise:['f' 't']\n",
      "teacher_prefix:['Mrs.' 'Mr.' 'Ms.' nan 'Dr.' 'Mr. & Mrs.']\n",
      "teacher_teach_for_america:['f' 't']\n",
      "teacher_ny_teaching_fellow:['f' 't']\n",
      "primary_focus_subject:['Literature & Writing' 'Literacy' 'Social Sciences' 'Mathematics'\n",
      " 'Gym & Fitness' 'College & Career Prep' 'Special Needs'\n",
      " 'Applied Sciences' 'Environmental Science' 'ESL']\n",
      "primary_focus_area:['Literacy & Language' 'History & Civics' 'Math & Science'\n",
      " 'Health & Sports' 'Applied Learning' 'Special Needs' 'Music & The Arts'\n",
      " nan]\n",
      "secondary_focus_subject:['College & Career Prep' 'ESL' 'Mathematics' 'Special Needs' 'Literacy'\n",
      " nan 'Social Sciences' 'Health & Life Science' 'Parent Involvement'\n",
      " 'Early Development']\n",
      "secondary_focus_area:['Applied Learning' 'Literacy & Language' 'Math & Science' 'Special Needs'\n",
      " nan 'History & Civics' 'Music & The Arts' 'Health & Sports']\n",
      "resource_type:['Books' 'Technology' 'Other' 'Supplies' 'Visitors' 'Trips' nan]\n",
      "poverty_level:['highest poverty' 'high poverty' 'moderate poverty' 'low poverty']\n",
      "grade_level:['Grades 6-8' 'Grades PreK-2' 'Grades 3-5' 'Grades 9-12' nan]\n",
      "fulfillment_labor_materials:[30. 35.  9. 17. nan]\n",
      "total_price_excluding_optional_support:[ 555.81  296.47  430.89  576.07  408.4   750.92 2291.48  459.36  325.39\n",
      "  567.84]\n",
      "total_price_including_optional_support:[ 653.89  348.79  506.93  677.73  480.47  883.44 2695.86  540.42  382.81\n",
      "  668.05]\n",
      "students_reached:[ 32.  22.  17.  12.  24.  20. 320.  18.  25.  28.]\n",
      "eligible_double_your_impact_match:['f' 't']\n",
      "eligible_almost_home_match:['f' 't']\n",
      "date_posted:['2014-05-12' '2014-05-11' '2014-05-10' '2014-05-09' '2014-05-08'\n",
      " '2014-05-07' '2014-05-06' '2014-05-05' '2014-05-04' '2014-05-03']\n"
     ]
    }
   ],
   "source": [
    "for col in df3.columns:\n",
    "    print(f'{col}:{df3[col].unique()[:10]}')"
   ]
  },
  {
   "cell_type": "code",
   "execution_count": 29,
   "id": "b11a6d45-ee9e-44b5-a8cf-d24de2e7954c",
   "metadata": {},
   "outputs": [
    {
     "data": {
      "text/plain": [
       "Index(['projectid', 'teacher_acctid', 'schoolid', 'school_ncesid',\n",
       "       'school_latitude', 'school_longitude', 'school_city', 'school_state',\n",
       "       'school_zip', 'school_metro', 'school_district', 'school_county',\n",
       "       'school_charter', 'school_magnet', 'school_year_round', 'school_nlns',\n",
       "       'school_kipp', 'school_charter_ready_promise', 'teacher_prefix',\n",
       "       'teacher_teach_for_america', 'teacher_ny_teaching_fellow',\n",
       "       'primary_focus_subject', 'primary_focus_area',\n",
       "       'secondary_focus_subject', 'secondary_focus_area', 'resource_type',\n",
       "       'poverty_level', 'grade_level', 'fulfillment_labor_materials',\n",
       "       'total_price_excluding_optional_support',\n",
       "       'total_price_including_optional_support', 'students_reached',\n",
       "       'eligible_double_your_impact_match', 'eligible_almost_home_match',\n",
       "       'date_posted'],\n",
       "      dtype='object')"
      ]
     },
     "execution_count": 29,
     "metadata": {},
     "output_type": "execute_result"
    }
   ],
   "source": [
    "df3.columns"
   ]
  },
  {
   "cell_type": "code",
   "execution_count": 30,
   "id": "c92355f4-9413-4fbe-b0cb-2aacc4f23e0a",
   "metadata": {},
   "outputs": [],
   "source": [
    "data4 = df3[['projectid','school_city', 'school_state',\n",
    "       'school_zip','schoolid','school_charter','teacher_teach_for_america','primary_focus_subject','resource_type',\n",
    "       'poverty_level', 'grade_level','students_reached','date_posted']]"
   ]
  },
  {
   "cell_type": "code",
   "execution_count": 31,
   "id": "795b2588-f887-40d0-b2fc-bbc8109c2e14",
   "metadata": {},
   "outputs": [
    {
     "data": {
      "text/plain": [
       "0"
      ]
     },
     "execution_count": 31,
     "metadata": {},
     "output_type": "execute_result"
    }
   ],
   "source": [
    "data4.duplicated().sum()"
   ]
  },
  {
   "cell_type": "code",
   "execution_count": 32,
   "id": "df68d28b-5cbc-4a19-8a93-b491cb899b3f",
   "metadata": {},
   "outputs": [],
   "source": [
    "data4 = data4.drop_duplicates(subset = ['projectid'])"
   ]
  },
  {
   "cell_type": "code",
   "execution_count": 33,
   "id": "d67c11e9-a98a-4fab-83f1-6193d8be0d84",
   "metadata": {},
   "outputs": [
    {
     "data": {
      "text/html": [
       "<div>\n",
       "<style scoped>\n",
       "    .dataframe tbody tr th:only-of-type {\n",
       "        vertical-align: middle;\n",
       "    }\n",
       "\n",
       "    .dataframe tbody tr th {\n",
       "        vertical-align: top;\n",
       "    }\n",
       "\n",
       "    .dataframe thead th {\n",
       "        text-align: right;\n",
       "    }\n",
       "</style>\n",
       "<table border=\"1\" class=\"dataframe\">\n",
       "  <thead>\n",
       "    <tr style=\"text-align: right;\">\n",
       "      <th></th>\n",
       "      <th>resourceid</th>\n",
       "      <th>projectid</th>\n",
       "      <th>vendorid</th>\n",
       "      <th>vendor_name</th>\n",
       "      <th>project_resource_type</th>\n",
       "      <th>item_name</th>\n",
       "      <th>item_number</th>\n",
       "      <th>item_unit_price</th>\n",
       "      <th>item_quantity</th>\n",
       "    </tr>\n",
       "  </thead>\n",
       "  <tbody>\n",
       "    <tr>\n",
       "      <th>0</th>\n",
       "      <td>8a1c1c45bc30d065061912fd9114fcf3</td>\n",
       "      <td>ffffc4f85b60efc5b52347df489d0238</td>\n",
       "      <td>430.0</td>\n",
       "      <td>Woodwind and Brasswind</td>\n",
       "      <td>Technology</td>\n",
       "      <td>iPod nano 4th Gen 8GB (Black)</td>\n",
       "      <td>249995.001</td>\n",
       "      <td>149.00</td>\n",
       "      <td>4.0</td>\n",
       "    </tr>\n",
       "    <tr>\n",
       "      <th>1</th>\n",
       "      <td>015d2c4935c50427964a12dc3f584091</td>\n",
       "      <td>ffffac55ee02a49d1abc87ba6fc61135</td>\n",
       "      <td>82.0</td>\n",
       "      <td>Best Buy for Business</td>\n",
       "      <td>Technology</td>\n",
       "      <td>Sony bloggie MHS-FS1 - camcorder - internal fl...</td>\n",
       "      <td>BB11216668</td>\n",
       "      <td>148.00</td>\n",
       "      <td>1.0</td>\n",
       "    </tr>\n",
       "    <tr>\n",
       "      <th>2</th>\n",
       "      <td>26a02944b2f0c25f9abdeacca3ede3ee</td>\n",
       "      <td>ffff97ed93720407d70a2787475932b0</td>\n",
       "      <td>767.0</td>\n",
       "      <td>Lakeshore Learning Materials</td>\n",
       "      <td>Supplies</td>\n",
       "      <td>VX748 - Best-Buy Jumbo Crayons - 12-Color Box</td>\n",
       "      <td>VX748</td>\n",
       "      <td>69.95</td>\n",
       "      <td>1.0</td>\n",
       "    </tr>\n",
       "    <tr>\n",
       "      <th>3</th>\n",
       "      <td>7fef1f92cb4447d18d599f69ea27e833</td>\n",
       "      <td>ffff97ed93720407d70a2787475932b0</td>\n",
       "      <td>767.0</td>\n",
       "      <td>Lakeshore Learning Materials</td>\n",
       "      <td>Supplies</td>\n",
       "      <td>LA138 - Best-Buy Write &amp; Wipe Broad-Tip Marker...</td>\n",
       "      <td>LA138</td>\n",
       "      <td>34.95</td>\n",
       "      <td>1.0</td>\n",
       "    </tr>\n",
       "    <tr>\n",
       "      <th>4</th>\n",
       "      <td>8dccf77df25ee615bb1a68b98ba9d861</td>\n",
       "      <td>ffff97ed93720407d70a2787475932b0</td>\n",
       "      <td>767.0</td>\n",
       "      <td>Lakeshore Learning Materials</td>\n",
       "      <td>Supplies</td>\n",
       "      <td>BJ7471 - 1 1/2&amp;#34; Ruled Chart Tablet</td>\n",
       "      <td>BJ7471</td>\n",
       "      <td>10.95</td>\n",
       "      <td>4.0</td>\n",
       "    </tr>\n",
       "  </tbody>\n",
       "</table>\n",
       "</div>"
      ],
      "text/plain": [
       "                         resourceid                         projectid  \\\n",
       "0  8a1c1c45bc30d065061912fd9114fcf3  ffffc4f85b60efc5b52347df489d0238   \n",
       "1  015d2c4935c50427964a12dc3f584091  ffffac55ee02a49d1abc87ba6fc61135   \n",
       "2  26a02944b2f0c25f9abdeacca3ede3ee  ffff97ed93720407d70a2787475932b0   \n",
       "3  7fef1f92cb4447d18d599f69ea27e833  ffff97ed93720407d70a2787475932b0   \n",
       "4  8dccf77df25ee615bb1a68b98ba9d861  ffff97ed93720407d70a2787475932b0   \n",
       "\n",
       "   vendorid                   vendor_name project_resource_type  \\\n",
       "0     430.0        Woodwind and Brasswind            Technology   \n",
       "1      82.0         Best Buy for Business            Technology   \n",
       "2     767.0  Lakeshore Learning Materials              Supplies   \n",
       "3     767.0  Lakeshore Learning Materials              Supplies   \n",
       "4     767.0  Lakeshore Learning Materials              Supplies   \n",
       "\n",
       "                                           item_name item_number  \\\n",
       "0                      iPod nano 4th Gen 8GB (Black)  249995.001   \n",
       "1  Sony bloggie MHS-FS1 - camcorder - internal fl...  BB11216668   \n",
       "2      VX748 - Best-Buy Jumbo Crayons - 12-Color Box       VX748   \n",
       "3  LA138 - Best-Buy Write & Wipe Broad-Tip Marker...       LA138   \n",
       "4             BJ7471 - 1 1/2&#34; Ruled Chart Tablet      BJ7471   \n",
       "\n",
       "   item_unit_price  item_quantity  \n",
       "0           149.00            4.0  \n",
       "1           148.00            1.0  \n",
       "2            69.95            1.0  \n",
       "3            34.95            1.0  \n",
       "4            10.95            4.0  "
      ]
     },
     "execution_count": 33,
     "metadata": {},
     "output_type": "execute_result"
    }
   ],
   "source": [
    "df4 = pd.read_csv(\"resources.csv\")\n",
    "df4.head()"
   ]
  },
  {
   "cell_type": "code",
   "execution_count": 34,
   "id": "7288f301-2bae-483c-a616-c4f4282b847f",
   "metadata": {},
   "outputs": [
    {
     "data": {
      "text/plain": [
       "(3667217, 9)"
      ]
     },
     "execution_count": 34,
     "metadata": {},
     "output_type": "execute_result"
    }
   ],
   "source": [
    "df4.shape"
   ]
  },
  {
   "cell_type": "code",
   "execution_count": 35,
   "id": "b3761f68-903d-445f-a8a9-b7cc252c7b79",
   "metadata": {},
   "outputs": [
    {
     "name": "stdout",
     "output_type": "stream",
     "text": [
      "resourceid:['8a1c1c45bc30d065061912fd9114fcf3' '015d2c4935c50427964a12dc3f584091'\n",
      " '26a02944b2f0c25f9abdeacca3ede3ee' '7fef1f92cb4447d18d599f69ea27e833'\n",
      " '8dccf77df25ee615bb1a68b98ba9d861']\n",
      "projectid:['ffffc4f85b60efc5b52347df489d0238' 'ffffac55ee02a49d1abc87ba6fc61135'\n",
      " 'ffff97ed93720407d70a2787475932b0' 'ffff7266778f71242675416e600b94e1'\n",
      " 'ffff418bb42fad24347527ad96100f81']\n",
      "vendorid:[430.  82. 767.  47. 773.]\n",
      "vendor_name:['Woodwind and Brasswind' 'Best Buy for Business'\n",
      " 'Lakeshore Learning Materials' 'Scholastic Classroom Magazines'\n",
      " 'School Specialty']\n",
      "project_resource_type:['Technology' 'Supplies' 'Other' 'Books' 'Trips']\n",
      "item_name:['iPod nano 4th Gen 8GB (Black)'\n",
      " 'Sony bloggie MHS-FS1 - camcorder - internal flash memory'\n",
      " 'VX748 - Best-Buy Jumbo Crayons - 12-Color Box'\n",
      " 'LA138 - Best-Buy Write & Wipe Broad-Tip Markers - Class Pack'\n",
      " 'BJ7471 - 1 1/2&#34; Ruled Chart Tablet']\n",
      "item_number:['249995.001' 'BB11216668' 'VX748' 'LA138' 'BJ7471']\n",
      "item_unit_price:[149.   148.    69.95  34.95  10.95]\n",
      "item_quantity:[ 4.  1.  2.  3. 25.]\n"
     ]
    }
   ],
   "source": [
    "for col in df4.columns:\n",
    "    print(f'{col}:{df4[col].unique()[:5]}')"
   ]
  },
  {
   "cell_type": "code",
   "execution_count": 36,
   "id": "0653cd82-a4ca-4d0c-a8d1-fb5e7f8750d1",
   "metadata": {},
   "outputs": [],
   "source": [
    "data5 = df4.drop(['resourceid','vendor_name','item_name'], axis = 1)"
   ]
  },
  {
   "cell_type": "code",
   "execution_count": 37,
   "id": "b296c8aa-5849-4e89-917f-85d1d3283476",
   "metadata": {},
   "outputs": [
    {
     "data": {
      "text/plain": [
       "32205"
      ]
     },
     "execution_count": 37,
     "metadata": {},
     "output_type": "execute_result"
    }
   ],
   "source": [
    "data5.duplicated().sum()"
   ]
  },
  {
   "cell_type": "code",
   "execution_count": 38,
   "id": "8961963a-5082-454e-acd4-2fc3ba93c1bc",
   "metadata": {},
   "outputs": [],
   "source": [
    "data5 = data5.drop_duplicates()"
   ]
  },
  {
   "cell_type": "code",
   "execution_count": 39,
   "id": "1060a7ec-e7e8-46ee-a127-2f610160cbef",
   "metadata": {},
   "outputs": [],
   "source": [
    "data5 = data5.drop_duplicates(subset = ['projectid'])"
   ]
  },
  {
   "cell_type": "code",
   "execution_count": 40,
   "id": "e1b226c3-ab0f-46ec-8fb3-787480aa87bd",
   "metadata": {},
   "outputs": [],
   "source": [
    "ml_file = data1.merge(data2, on = 'projectid', how = 'inner').merge(data3, on = 'projectid', how = 'inner').merge(data4, on = 'projectid', how = 'inner').merge(data5, on = 'projectid', how = 'inner')\n"
   ]
  },
  {
   "cell_type": "code",
   "execution_count": 41,
   "id": "d1655965-28a7-4e42-83f7-8d95b8eb3218",
   "metadata": {},
   "outputs": [
    {
     "data": {
      "text/plain": [
       "(524949, 34)"
      ]
     },
     "execution_count": 41,
     "metadata": {},
     "output_type": "execute_result"
    }
   ],
   "source": [
    "ml_file.shape"
   ]
  },
  {
   "cell_type": "code",
   "execution_count": 42,
   "id": "1460d996-d120-4bef-bd5d-efd8bfb8198f",
   "metadata": {},
   "outputs": [
    {
     "data": {
      "text/html": [
       "<div>\n",
       "<style scoped>\n",
       "    .dataframe tbody tr th:only-of-type {\n",
       "        vertical-align: middle;\n",
       "    }\n",
       "\n",
       "    .dataframe tbody tr th {\n",
       "        vertical-align: top;\n",
       "    }\n",
       "\n",
       "    .dataframe thead th {\n",
       "        text-align: right;\n",
       "    }\n",
       "</style>\n",
       "<table border=\"1\" class=\"dataframe\">\n",
       "  <thead>\n",
       "    <tr style=\"text-align: right;\">\n",
       "      <th></th>\n",
       "      <th>projectid</th>\n",
       "      <th>donor_city</th>\n",
       "      <th>donor_state</th>\n",
       "      <th>donation_to_project</th>\n",
       "      <th>donation_optional_support</th>\n",
       "      <th>donation_total</th>\n",
       "      <th>donation_message</th>\n",
       "      <th>teacher_acctid</th>\n",
       "      <th>title</th>\n",
       "      <th>short_description</th>\n",
       "      <th>...</th>\n",
       "      <th>resource_type</th>\n",
       "      <th>poverty_level</th>\n",
       "      <th>grade_level</th>\n",
       "      <th>students_reached</th>\n",
       "      <th>date_posted</th>\n",
       "      <th>vendorid</th>\n",
       "      <th>project_resource_type</th>\n",
       "      <th>item_number</th>\n",
       "      <th>item_unit_price</th>\n",
       "      <th>item_quantity</th>\n",
       "    </tr>\n",
       "  </thead>\n",
       "  <tbody>\n",
       "    <tr>\n",
       "      <th>0</th>\n",
       "      <td>ffffac55ee02a49d1abc87ba6fc61135</td>\n",
       "      <td>Peachtree City</td>\n",
       "      <td>GA</td>\n",
       "      <td>42.50</td>\n",
       "      <td>7.50</td>\n",
       "      <td>50.0</td>\n",
       "      <td>I gave to this project because I support the e...</td>\n",
       "      <td>947066d0af47e0566f334566553dd6a6</td>\n",
       "      <td>Recording Rockin' Readers</td>\n",
       "      <td>Can you imagine having to translate everything...</td>\n",
       "      <td>...</td>\n",
       "      <td>Technology</td>\n",
       "      <td>highest poverty</td>\n",
       "      <td>Grades PreK-2</td>\n",
       "      <td>8.0</td>\n",
       "      <td>2011-06-11</td>\n",
       "      <td>82.0</td>\n",
       "      <td>Technology</td>\n",
       "      <td>BB11216668</td>\n",
       "      <td>148.00</td>\n",
       "      <td>1.0</td>\n",
       "    </tr>\n",
       "    <tr>\n",
       "      <th>1</th>\n",
       "      <td>ffff97ed93720407d70a2787475932b0</td>\n",
       "      <td>NaN</td>\n",
       "      <td>NY</td>\n",
       "      <td>212.50</td>\n",
       "      <td>37.50</td>\n",
       "      <td>250.0</td>\n",
       "      <td>I gave to this project because I am helping MC...</td>\n",
       "      <td>462270f5d5c212162fcab11afa2623cb</td>\n",
       "      <td>Kindergarten In Need of Important Materials!</td>\n",
       "      <td>It takes a special person to donate to a group...</td>\n",
       "      <td>...</td>\n",
       "      <td>Supplies</td>\n",
       "      <td>highest poverty</td>\n",
       "      <td>Grades PreK-2</td>\n",
       "      <td>25.0</td>\n",
       "      <td>2010-09-11</td>\n",
       "      <td>767.0</td>\n",
       "      <td>Supplies</td>\n",
       "      <td>VX748</td>\n",
       "      <td>69.95</td>\n",
       "      <td>1.0</td>\n",
       "    </tr>\n",
       "    <tr>\n",
       "      <th>2</th>\n",
       "      <td>ffff418bb42fad24347527ad96100f81</td>\n",
       "      <td>NaN</td>\n",
       "      <td>TX</td>\n",
       "      <td>20.50</td>\n",
       "      <td>4.50</td>\n",
       "      <td>25.0</td>\n",
       "      <td>I gave to this project because this school is ...</td>\n",
       "      <td>e885fb002a1d0d39aaed9d21a7683549</td>\n",
       "      <td>Whistle While We Work!</td>\n",
       "      <td>By using the cross curricular games requested,...</td>\n",
       "      <td>...</td>\n",
       "      <td>Supplies</td>\n",
       "      <td>low poverty</td>\n",
       "      <td>Grades 3-5</td>\n",
       "      <td>20.0</td>\n",
       "      <td>2009-04-03</td>\n",
       "      <td>773.0</td>\n",
       "      <td>Supplies</td>\n",
       "      <td>1283493030</td>\n",
       "      <td>694.98</td>\n",
       "      <td>1.0</td>\n",
       "    </tr>\n",
       "    <tr>\n",
       "      <th>3</th>\n",
       "      <td>ffff2d9c769c8fb5335e949c615425eb</td>\n",
       "      <td>NaN</td>\n",
       "      <td>ID</td>\n",
       "      <td>58.65</td>\n",
       "      <td>10.35</td>\n",
       "      <td>69.0</td>\n",
       "      <td>Education is the most important thing in the w...</td>\n",
       "      <td>485784e52a4c85ea6783285d09d8aea4</td>\n",
       "      <td>Too Close for Comfort</td>\n",
       "      <td>Have you ever had to crowd around an iPad scre...</td>\n",
       "      <td>...</td>\n",
       "      <td>Technology</td>\n",
       "      <td>high poverty</td>\n",
       "      <td>Grades 3-5</td>\n",
       "      <td>25.0</td>\n",
       "      <td>2013-03-03</td>\n",
       "      <td>82.0</td>\n",
       "      <td>Technology</td>\n",
       "      <td>BB12424888</td>\n",
       "      <td>499.99</td>\n",
       "      <td>1.0</td>\n",
       "    </tr>\n",
       "    <tr>\n",
       "      <th>4</th>\n",
       "      <td>fffeebf4827d745aa36b17c2d38d1966</td>\n",
       "      <td>NaN</td>\n",
       "      <td>CA</td>\n",
       "      <td>797.30</td>\n",
       "      <td>140.70</td>\n",
       "      <td>938.0</td>\n",
       "      <td>Chevron is committed to securing America's fut...</td>\n",
       "      <td>96c1a33b4f2b832595c3c6a01bc24c05</td>\n",
       "      <td>Toot Your Flute!</td>\n",
       "      <td>The rewards of playing a musical instrument is...</td>\n",
       "      <td>...</td>\n",
       "      <td>Other</td>\n",
       "      <td>highest poverty</td>\n",
       "      <td>Grades 6-8</td>\n",
       "      <td>11.0</td>\n",
       "      <td>2012-12-01</td>\n",
       "      <td>430.0</td>\n",
       "      <td>Other</td>\n",
       "      <td>400280</td>\n",
       "      <td>59.99</td>\n",
       "      <td>1.0</td>\n",
       "    </tr>\n",
       "  </tbody>\n",
       "</table>\n",
       "<p>5 rows × 34 columns</p>\n",
       "</div>"
      ],
      "text/plain": [
       "                          projectid      donor_city donor_state  \\\n",
       "0  ffffac55ee02a49d1abc87ba6fc61135  Peachtree City          GA   \n",
       "1  ffff97ed93720407d70a2787475932b0             NaN          NY   \n",
       "2  ffff418bb42fad24347527ad96100f81             NaN          TX   \n",
       "3  ffff2d9c769c8fb5335e949c615425eb             NaN          ID   \n",
       "4  fffeebf4827d745aa36b17c2d38d1966             NaN          CA   \n",
       "\n",
       "   donation_to_project  donation_optional_support  donation_total  \\\n",
       "0                42.50                       7.50            50.0   \n",
       "1               212.50                      37.50           250.0   \n",
       "2                20.50                       4.50            25.0   \n",
       "3                58.65                      10.35            69.0   \n",
       "4               797.30                     140.70           938.0   \n",
       "\n",
       "                                    donation_message  \\\n",
       "0  I gave to this project because I support the e...   \n",
       "1  I gave to this project because I am helping MC...   \n",
       "2  I gave to this project because this school is ...   \n",
       "3  Education is the most important thing in the w...   \n",
       "4  Chevron is committed to securing America's fut...   \n",
       "\n",
       "                     teacher_acctid  \\\n",
       "0  947066d0af47e0566f334566553dd6a6   \n",
       "1  462270f5d5c212162fcab11afa2623cb   \n",
       "2  e885fb002a1d0d39aaed9d21a7683549   \n",
       "3  485784e52a4c85ea6783285d09d8aea4   \n",
       "4  96c1a33b4f2b832595c3c6a01bc24c05   \n",
       "\n",
       "                                          title  \\\n",
       "0                     Recording Rockin' Readers   \n",
       "1  Kindergarten In Need of Important Materials!   \n",
       "2                        Whistle While We Work!   \n",
       "3                         Too Close for Comfort   \n",
       "4                              Toot Your Flute!   \n",
       "\n",
       "                                   short_description  ... resource_type  \\\n",
       "0  Can you imagine having to translate everything...  ...    Technology   \n",
       "1  It takes a special person to donate to a group...  ...      Supplies   \n",
       "2  By using the cross curricular games requested,...  ...      Supplies   \n",
       "3  Have you ever had to crowd around an iPad scre...  ...    Technology   \n",
       "4  The rewards of playing a musical instrument is...  ...         Other   \n",
       "\n",
       "     poverty_level    grade_level students_reached date_posted vendorid  \\\n",
       "0  highest poverty  Grades PreK-2              8.0  2011-06-11     82.0   \n",
       "1  highest poverty  Grades PreK-2             25.0  2010-09-11    767.0   \n",
       "2      low poverty     Grades 3-5             20.0  2009-04-03    773.0   \n",
       "3     high poverty     Grades 3-5             25.0  2013-03-03     82.0   \n",
       "4  highest poverty     Grades 6-8             11.0  2012-12-01    430.0   \n",
       "\n",
       "  project_resource_type item_number item_unit_price  item_quantity  \n",
       "0            Technology  BB11216668          148.00            1.0  \n",
       "1              Supplies       VX748           69.95            1.0  \n",
       "2              Supplies  1283493030          694.98            1.0  \n",
       "3            Technology  BB12424888          499.99            1.0  \n",
       "4                 Other      400280           59.99            1.0  \n",
       "\n",
       "[5 rows x 34 columns]"
      ]
     },
     "execution_count": 42,
     "metadata": {},
     "output_type": "execute_result"
    }
   ],
   "source": [
    "ml_file.head()"
   ]
  },
  {
   "cell_type": "code",
   "execution_count": 43,
   "id": "69fed843-3399-48dd-91ea-f3c9e42d0532",
   "metadata": {},
   "outputs": [],
   "source": [
    "ml_file.to_csv('finalml_file.csv')"
   ]
  },
  {
   "cell_type": "code",
   "execution_count": null,
   "id": "74bdc838-485e-448e-be92-f006d3ea4979",
   "metadata": {},
   "outputs": [],
   "source": []
  }
 ],
 "metadata": {
  "kernelspec": {
   "display_name": "Python 3 (ipykernel)",
   "language": "python",
   "name": "python3"
  },
  "language_info": {
   "codemirror_mode": {
    "name": "ipython",
    "version": 3
   },
   "file_extension": ".py",
   "mimetype": "text/x-python",
   "name": "python",
   "nbconvert_exporter": "python",
   "pygments_lexer": "ipython3",
   "version": "3.12.7"
  }
 },
 "nbformat": 4,
 "nbformat_minor": 5
}
